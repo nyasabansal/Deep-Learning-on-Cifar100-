{
 "cells": [
  {
   "cell_type": "code",
   "execution_count": 3,
   "metadata": {
    "id": "ZdouPAkxwz9p"
   },
   "outputs": [],
   "source": [
    "import tensorflow as tf\n",
    "from tensorflow.keras import datasets, layers, models\n",
    "from tensorflow.keras.layers import BatchNormalization\n",
    "import numpy as np\n",
    "import matplotlib.pyplot as plt"
   ]
  },
  {
   "cell_type": "code",
   "execution_count": 4,
   "metadata": {
    "colab": {
     "base_uri": "https://localhost:8080/"
    },
    "id": "ZdD-BLVFx7w7",
    "outputId": "44ac58b3-0382-4668-95c6-1b0361ea726d"
   },
   "outputs": [
    {
     "name": "stdout",
     "output_type": "stream",
     "text": [
      "Downloading data from https://www.cs.toronto.edu/~kriz/cifar-100-python.tar.gz\n",
      "169001437/169001437 [==============================] - 3s 0us/step\n"
     ]
    }
   ],
   "source": [
    "(train_images, train_labels), (test_images, test_labels) = datasets.cifar100.load_data(label_mode='coarse')\n"
   ]
  },
  {
   "cell_type": "code",
   "execution_count": 5,
   "metadata": {
    "id": "z2gRRWeKyMyW"
   },
   "outputs": [],
   "source": [
    "#normalization\n",
    "train_images = train_images / 255.0\n",
    "test_images = test_images / 255.0"
   ]
  },
  {
   "cell_type": "code",
   "execution_count": 4,
   "metadata": {
    "colab": {
     "base_uri": "https://localhost:8080/",
     "height": 140
    },
    "id": "XkIWp8s5y2K5",
    "outputId": "650068dc-79e7-4256-e19a-30f5536bd733"
   },
   "outputs": [
    {
     "ename": "SyntaxError",
     "evalue": "ignored",
     "output_type": "error",
     "traceback": [
      "\u001b[0;36m  File \u001b[0;32m\"<ipython-input-4-bdc58c320f48>\"\u001b[0;36m, line \u001b[0;32m22\u001b[0m\n\u001b[0;31m    }\u001b[0m\n\u001b[0m    ^\u001b[0m\n\u001b[0;31mSyntaxError\u001b[0m\u001b[0;31m:\u001b[0m unmatched '}'\n"
     ]
    }
   ],
   "source": [
    "###class_names = {\n",
    "'aquatic_mammals':\t['beaver', 'dolphin', 'otter', 'seal', 'whale'],\n",
    "'fish':\t['aquarium_fish', 'flatfish', 'ray', 'shark', 'trout'],\n",
    "'flowers':\t['orchids', 'poppies', 'roses', 'sunflowers', 'tulips'],\n",
    "'food_containers':\t['bottles', 'bowls', 'cans', 'cups', 'plates'],\n",
    "'fruit_and_vegetables':\t['apples', 'mushrooms', 'oranges', 'pears', 'sweet_peppers'],\n",
    "'household_electrical_devices':\t['clock', 'computer_keyboard', 'lamp', 'telephone', 'television'],\n",
    "'household_furniture':\t['bed', 'chair', 'couch', 'table', 'wardrobe'],\n",
    "'insects':\t['bee', 'beetle', 'butterfly', 'caterpillar', 'cockroach'],\n",
    "'large_carnivores':\t['bear', 'leopard', 'lion', 'tiger', 'wolf'],\n",
    "'large_manmade_outdoor_things':\t['bridge', 'castle', 'house', 'road', 'skyscraper'],\n",
    "'large_natural_outdoor_scenes':\t['cloud', 'forest', 'mountain', 'plain', 'sea'],\n",
    "'large_omnivores_and_herbivores':\t['camel', 'cattle', 'chimpanzee', 'elephant', 'kangaroo'],\n",
    "'medium_sized_mammals':\t['fox', 'porcupine', 'possum', 'raccoon', 'skunk'],\n",
    "'non_insect_invertebrates':\t['crab', 'lobster', 'snail', 'spider', 'worm'],\n",
    "'people':\t['baby', 'boy', 'girl', 'man', 'woman'],\n",
    "'reptiles':['crocodile', 'dinosaur', 'lizard', 'snake', 'turtle'],\n",
    "'small_mammals':\t['hamster', 'mouse', 'rabbit', 'shrew', 'squirrel'],\n",
    "'trees':\t['maple', 'oak', 'palm', 'pine', 'willow'],\n",
    "'vehicles_1':\t['bicycle', 'bus', 'motorcycle', 'pickup_truck', 'train'],\n",
    "'vehicles_2':\t['lawn_mower', 'rocket', 'streetcar', 'tank', 'tractor']\n",
    "                }"
   ]
  },
  {
   "cell_type": "code",
   "execution_count": 7,
   "metadata": {
    "id": "5cCOtxxjaBAw"
   },
   "outputs": [],
   "source": [
    "class_names=['aqua_mammals' ,'fish','flowers'\t,'food_containers'\t,'fruit and vegetables',\t'electrical_devices',\n",
    "             'household furniture',\t'insects'\t,'carnivores'\t,'man-made outdoor things',\t'natural outdoor scenes',\n",
    "             'omnivores & herbivores',\t'medium-sized mammals',\t'non-insect invertebrates',\t'people',\n",
    "             'reptiles',\t'small mammals',\t'trees',\t'vehicles 1','vehicles 2']"
   ]
  },
  {
   "cell_type": "code",
   "execution_count": 8,
   "metadata": {
    "colab": {
     "base_uri": "https://localhost:8080/"
    },
    "id": "k0FYMxsj2T__",
    "outputId": "8d46394a-0916-43cd-9527-0856999c7f64"
   },
   "outputs": [
    {
     "data": {
      "text/plain": [
       "(50000, 32, 32, 3)"
      ]
     },
     "execution_count": 8,
     "metadata": {},
     "output_type": "execute_result"
    }
   ],
   "source": [
    "train_images.shape"
   ]
  },
  {
   "cell_type": "code",
   "execution_count": 9,
   "metadata": {
    "colab": {
     "base_uri": "https://localhost:8080/"
    },
    "id": "9qx6wG2Z61T9",
    "outputId": "6456a0ed-ff72-45fe-b0b1-aa8f4c20046f"
   },
   "outputs": [
    {
     "data": {
      "text/plain": [
       "50000"
      ]
     },
     "execution_count": 9,
     "metadata": {},
     "output_type": "execute_result"
    }
   ],
   "source": [
    "len(train_labels)"
   ]
  },
  {
   "cell_type": "code",
   "execution_count": 10,
   "metadata": {
    "colab": {
     "base_uri": "https://localhost:8080/"
    },
    "id": "WNgVLXDZ66lc",
    "outputId": "73c3d574-de00-4ddc-c009-cd862e237e74"
   },
   "outputs": [
    {
     "data": {
      "text/plain": [
       "(10000, 32, 32, 3)"
      ]
     },
     "execution_count": 10,
     "metadata": {},
     "output_type": "execute_result"
    }
   ],
   "source": [
    "test_images.shape"
   ]
  },
  {
   "cell_type": "code",
   "execution_count": 11,
   "metadata": {
    "colab": {
     "base_uri": "https://localhost:8080/"
    },
    "id": "JkzMjuDZ69k6",
    "outputId": "5e219ac6-5be3-42f6-8bef-609a73c1f053"
   },
   "outputs": [
    {
     "data": {
      "text/plain": [
       "10000"
      ]
     },
     "execution_count": 11,
     "metadata": {},
     "output_type": "execute_result"
    }
   ],
   "source": [
    "len(test_labels)"
   ]
  },
  {
   "cell_type": "code",
   "execution_count": 12,
   "metadata": {
    "colab": {
     "base_uri": "https://localhost:8080/",
     "height": 826
    },
    "id": "pWFVI-k26_oc",
    "outputId": "b75613d4-0b6d-4f05-d984-fa974973df28"
   },
   "outputs": [
    {
     "data": {
      "image/png": "[encoded data removed]",
      "text/plain": [
       "<Figure size 1000x1000 with 25 Axes>"
      ]
     },
     "metadata": {},
     "output_type": "display_data"
    }
   ],
   "source": [
    "plt.figure(figsize=(10,10))\n",
    "\n",
    "for i in range(25):\n",
    "  plt.subplot(5,5,i+1)\n",
    "  plt.xticks([])\n",
    "  plt.yticks([])\n",
    "  plt.grid(False)\n",
    "  plt.imshow(train_images[i],cmap=plt.cm.binary)\n",
    "  plt.xlabel(class_names[train_labels[i][0]])\n",
    "plt.show()"
   ]
  },
  {
   "cell_type": "code",
   "execution_count": 13,
   "metadata": {
    "id": "QX273xsM7DjW"
   },
   "outputs": [],
   "source": [
    "model = models.Sequential()\n",
    "\n",
    "model.add(layers.Conv2D(32, (3,3), activation='relu', input_shape=(32,32,3)))\n",
    "model.add(layers.MaxPool2D((2,2)))\n",
    "\n",
    "model.add(layers.Conv2D(64, (3,3), activation='relu'))\n",
    "model.add(layers.MaxPool2D((2,2)))\n",
    "\n",
    "model.add(layers.Conv2D(64, (3,3), activation='relu'))"
   ]
  },
  {
   "cell_type": "code",
   "execution_count": 14,
   "metadata": {
    "colab": {
     "base_uri": "https://localhost:8080/"
    },
    "id": "VAlsZTlu-HiE",
    "outputId": "2c19077c-8366-4038-9671-7078a96c89f8"
   },
   "outputs": [
    {
     "name": "stdout",
     "output_type": "stream",
     "text": [
      "Model: \"sequential\"\n",
      "_________________________________________________________________\n",
      " Layer (type)                Output Shape              Param #   \n",
      "=================================================================\n",
      " conv2d (Conv2D)             (None, 30, 30, 32)        896       \n",
      "                                                                 \n",
      " max_pooling2d (MaxPooling2D  (None, 15, 15, 32)       0         \n",
      " )                                                               \n",
      "                                                                 \n",
      " conv2d_1 (Conv2D)           (None, 13, 13, 64)        18496     \n",
      "                                                                 \n",
      " max_pooling2d_1 (MaxPooling  (None, 6, 6, 64)         0         \n",
      " 2D)                                                             \n",
      "                                                                 \n",
      " conv2d_2 (Conv2D)           (None, 4, 4, 64)          36928     \n",
      "                                                                 \n",
      "=================================================================\n",
      "Total params: 56,320\n",
      "Trainable params: 56,320\n",
      "Non-trainable params: 0\n",
      "_________________________________________________________________\n"
     ]
    }
   ],
   "source": [
    "model.summary()"
   ]
  },
  {
   "cell_type": "code",
   "execution_count": 15,
   "metadata": {
    "id": "jbKH_fuZ-8yR"
   },
   "outputs": [],
   "source": [
    "model.add(layers.Flatten())#input layer\n",
    "model.add(layers.Dense(64, activation='relu'))#hidden layer\n",
    "model.add(layers.Dense(20))#output layer"
   ]
  },
  {
   "cell_type": "code",
   "execution_count": 16,
   "metadata": {
    "id": "V5LV4PN9_X6o"
   },
   "outputs": [],
   "source": [
    "model.compile(optimizer='adam',\n",
    "              loss=tf.keras.losses.SparseCategoricalCrossentropy(from_logits=True),\n",
    "              metrics=['accuracy'])"
   ]
  },
  {
   "cell_type": "code",
   "execution_count": 17,
   "metadata": {
    "colab": {
     "base_uri": "https://localhost:8080/"
    },
    "id": "MkVUw-lA_eJ7",
    "outputId": "a98ed466-8cd4-458c-a98d-8b646fdcd6a8"
   },
   "outputs": [
    {
     "name": "stdout",
     "output_type": "stream",
     "text": [
      "Epoch 1/10\n",
      "1563/1563 [==============================] - 20s 5ms/step - loss: 2.4451 - accuracy: 0.2398\n",
      "Epoch 2/10\n",
      "1563/1563 [==============================] - 8s 5ms/step - loss: 2.0506 - accuracy: 0.3646\n",
      "Epoch 3/10\n",
      "1563/1563 [==============================] - 8s 5ms/step - loss: 1.8655 - accuracy: 0.4175\n",
      "Epoch 4/10\n",
      "1563/1563 [==============================] - 8s 5ms/step - loss: 1.7476 - accuracy: 0.4539\n",
      "Epoch 5/10\n",
      "1563/1563 [==============================] - 11s 7ms/step - loss: 1.6644 - accuracy: 0.4809\n",
      "Epoch 6/10\n",
      "1563/1563 [==============================] - 7s 5ms/step - loss: 1.5935 - accuracy: 0.4994\n",
      "Epoch 7/10\n",
      "1563/1563 [==============================] - 8s 5ms/step - loss: 1.5368 - accuracy: 0.5157\n",
      "Epoch 8/10\n",
      "1563/1563 [==============================] - 7s 4ms/step - loss: 1.4758 - accuracy: 0.5333\n",
      "Epoch 9/10\n",
      "1563/1563 [==============================] - 8s 5ms/step - loss: 1.4248 - accuracy: 0.5480\n",
      "Epoch 10/10\n",
      "1563/1563 [==============================] - 7s 5ms/step - loss: 1.3769 - accuracy: 0.5644\n"
     ]
    },
    {
     "data": {
      "text/plain": [
       "<keras.callbacks.History at 0x78a6fc4f36d0>"
      ]
     },
     "execution_count": 17,
     "metadata": {},
     "output_type": "execute_result"
    }
   ],
   "source": [
    "model.fit(train_images, train_labels, epochs=10)"
   ]
  },
  {
   "cell_type": "code",
   "execution_count": 18,
   "metadata": {
    "colab": {
     "base_uri": "https://localhost:8080/"
    },
    "id": "B94o-vru_hkv",
    "outputId": "c7641dd0-6316-4b76-afc7-6d53660c6d2e"
   },
   "outputs": [
    {
     "name": "stdout",
     "output_type": "stream",
     "text": [
      "313/313 [==============================] - 1s 3ms/step - loss: 1.7325 - accuracy: 0.4694\n"
     ]
    }
   ],
   "source": [
    "#Accuracy on test data :\n",
    "test_loss, test_accu = model.evaluate(test_images, test_labels)"
   ]
  },
  {
   "cell_type": "code",
   "execution_count": 19,
   "metadata": {
    "colab": {
     "base_uri": "https://localhost:8080/"
    },
    "id": "MOnR7764NKiM",
    "outputId": "b3c0e086-d025-4f71-e0a2-540ed342223a"
   },
   "outputs": [
    {
     "name": "stdout",
     "output_type": "stream",
     "text": [
      "1563/1563 [==============================] - 5s 3ms/step - loss: 1.3232 - accuracy: 0.5759\n"
     ]
    }
   ],
   "source": [
    "#Accuraccy on training data:\n",
    "train_loss, train_accu = model.evaluate(train_images, train_labels)"
   ]
  },
  {
   "cell_type": "code",
   "execution_count": 20,
   "metadata": {
    "colab": {
     "base_uri": "https://localhost:8080/"
    },
    "id": "acB25SktNX3s",
    "outputId": "1294e0ed-c28a-4757-ec1d-1a7a94d62adf"
   },
   "outputs": [
    {
     "name": "stdout",
     "output_type": "stream",
     "text": [
      "313/313 [==============================] - 1s 2ms/step\n"
     ]
    },
    {
     "data": {
      "text/plain": [
       "array([ 1.3794723 , -2.9846187 , -4.0134964 , -4.3244066 , -4.435991  ,\n",
       "       -0.27642247, -1.4848393 , -0.13735753, -0.5804802 ,  0.3841896 ,\n",
       "       -1.1712266 , -0.83431065,  2.3287153 ,  0.10812338, -0.705102  ,\n",
       "        0.58485556, -0.3144586 , -2.045663  , -0.31109154, -0.07444882],\n",
       "      dtype=float32)"
      ]
     },
     "execution_count": 20,
     "metadata": {},
     "output_type": "execute_result"
    }
   ],
   "source": [
    "pred = model.predict(test_images)\n",
    "pred[0]"
   ]
  },
  {
   "cell_type": "code",
   "execution_count": 21,
   "metadata": {
    "colab": {
     "base_uri": "https://localhost:8080/"
    },
    "id": "cxzXumJ5NYG0",
    "outputId": "af5d08e9-eec9-4d53-fbb5-50ccfd507575"
   },
   "outputs": [
    {
     "data": {
      "text/plain": [
       "12"
      ]
     },
     "execution_count": 21,
     "metadata": {},
     "output_type": "execute_result"
    }
   ],
   "source": [
    "np.argmax(pred[0])"
   ]
  },
  {
   "cell_type": "code",
   "execution_count": 22,
   "metadata": {
    "colab": {
     "base_uri": "https://localhost:8080/"
    },
    "id": "lH54SBimNYSc",
    "outputId": "dc667bd5-4066-4029-b2ad-badac91a341c"
   },
   "outputs": [
    {
     "data": {
      "text/plain": [
       "array([10])"
      ]
     },
     "execution_count": 22,
     "metadata": {},
     "output_type": "execute_result"
    }
   ],
   "source": [
    "\n",
    "test_labels[0]"
   ]
  },
  {
   "cell_type": "code",
   "execution_count": 23,
   "metadata": {
    "id": "Buz1miFdNYbd"
   },
   "outputs": [],
   "source": [
    "#2nd model\n",
    "model = models.Sequential()\n",
    "model.add(layers.Conv2D(32, (3,3), activation='relu', input_shape=(32, 32, 3)))\n",
    "model.add(layers.Conv2D(64, (3,3), activation='relu'))\n",
    "model.add(layers.MaxPooling2D((2,2)))\n",
    "\n",
    "model.add(layers.Conv2D(128,(3,3), activation='relu'))\n",
    "model.add(layers.MaxPooling2D((2,2)))\n",
    "\n",
    "model.add(layers.Conv2D(128, (3,3), activation='relu'))\n",
    "model.add(layers.Conv2D(256, (3,3), activation='relu'))\n",
    "model.add(layers.MaxPooling2D((2,2)))\n",
    "\n",
    "model.add(layers.Flatten())\n",
    "model.add(layers.Dense(256,activation='relu'))\n",
    "model.add(layers.Dense(512, activation='relu'))\n",
    "model.add(layers.Dense(20))"
   ]
  },
  {
   "cell_type": "code",
   "execution_count": 24,
   "metadata": {
    "colab": {
     "base_uri": "https://localhost:8080/"
    },
    "id": "Hmm7cj7yNYj4",
    "outputId": "7964ceaa-5895-4f21-d213-5879fd001af6"
   },
   "outputs": [
    {
     "name": "stdout",
     "output_type": "stream",
     "text": [
      "Model: \"sequential_1\"\n",
      "_________________________________________________________________\n",
      " Layer (type)                Output Shape              Param #   \n",
      "=================================================================\n",
      " conv2d_3 (Conv2D)           (None, 30, 30, 32)        896       \n",
      "                                                                 \n",
      " conv2d_4 (Conv2D)           (None, 28, 28, 64)        18496     \n",
      "                                                                 \n",
      " max_pooling2d_2 (MaxPooling  (None, 14, 14, 64)       0         \n",
      " 2D)                                                             \n",
      "                                                                 \n",
      " conv2d_5 (Conv2D)           (None, 12, 12, 128)       73856     \n",
      "                                                                 \n",
      " max_pooling2d_3 (MaxPooling  (None, 6, 6, 128)        0         \n",
      " 2D)                                                             \n",
      "                                                                 \n",
      " conv2d_6 (Conv2D)           (None, 4, 4, 128)         147584    \n",
      "                                                                 \n",
      " conv2d_7 (Conv2D)           (None, 2, 2, 256)         295168    \n",
      "                                                                 \n",
      " max_pooling2d_4 (MaxPooling  (None, 1, 1, 256)        0         \n",
      " 2D)                                                             \n",
      "                                                                 \n",
      " flatten_1 (Flatten)         (None, 256)               0         \n",
      "                                                                 \n",
      " dense_2 (Dense)             (None, 256)               65792     \n",
      "                                                                 \n",
      " dense_3 (Dense)             (None, 512)               131584    \n",
      "                                                                 \n",
      " dense_4 (Dense)             (None, 20)                10260     \n",
      "                                                                 \n",
      "=================================================================\n",
      "Total params: 743,636\n",
      "Trainable params: 743,636\n",
      "Non-trainable params: 0\n",
      "_________________________________________________________________\n"
     ]
    }
   ],
   "source": [
    "model.summary()"
   ]
  },
  {
   "cell_type": "code",
   "execution_count": 25,
   "metadata": {
    "id": "CeQjFo5WNYq_"
   },
   "outputs": [],
   "source": [
    "model.compile(optimizer='adam',\n",
    "               loss= tf.keras.losses.SparseCategoricalCrossentropy(from_logits=True),\n",
    "               metrics=['accuracy'])"
   ]
  },
  {
   "cell_type": "code",
   "execution_count": 26,
   "metadata": {
    "colab": {
     "base_uri": "https://localhost:8080/"
    },
    "id": "I9Oz2PEIOmbt",
    "outputId": "3c3f9f71-1547-4a20-ee31-3f988674b759"
   },
   "outputs": [
    {
     "name": "stdout",
     "output_type": "stream",
     "text": [
      "Epoch 1/10\n",
      "1563/1563 [==============================] - 14s 7ms/step - loss: 2.5772 - accuracy: 0.1887\n",
      "Epoch 2/10\n",
      "1563/1563 [==============================] - 10s 6ms/step - loss: 2.2001 - accuracy: 0.3107\n",
      "Epoch 3/10\n",
      "1563/1563 [==============================] - 10s 6ms/step - loss: 1.9556 - accuracy: 0.3871\n",
      "Epoch 4/10\n",
      "1563/1563 [==============================] - 9s 6ms/step - loss: 1.7779 - accuracy: 0.4413\n",
      "Epoch 5/10\n",
      "1563/1563 [==============================] - 10s 6ms/step - loss: 1.6406 - accuracy: 0.4826\n",
      "Epoch 6/10\n",
      "1563/1563 [==============================] - 10s 6ms/step - loss: 1.5289 - accuracy: 0.5145\n",
      "Epoch 7/10\n",
      "1563/1563 [==============================] - 10s 6ms/step - loss: 1.4213 - accuracy: 0.5471\n",
      "Epoch 8/10\n",
      "1563/1563 [==============================] - 10s 6ms/step - loss: 1.3322 - accuracy: 0.5724\n",
      "Epoch 9/10\n",
      "1563/1563 [==============================] - 10s 6ms/step - loss: 1.2455 - accuracy: 0.5988\n",
      "Epoch 10/10\n",
      "1563/1563 [==============================] - 10s 7ms/step - loss: 1.1576 - accuracy: 0.6229\n"
     ]
    },
    {
     "data": {
      "text/plain": [
       "<keras.callbacks.History at 0x78a698316a10>"
      ]
     },
     "execution_count": 26,
     "metadata": {},
     "output_type": "execute_result"
    }
   ],
   "source": [
    "model.fit(train_images, train_labels, epochs=10)"
   ]
  },
  {
   "cell_type": "code",
   "execution_count": 27,
   "metadata": {
    "colab": {
     "base_uri": "https://localhost:8080/"
    },
    "id": "N_XnbTWIOmnn",
    "outputId": "8f646c84-56fd-4953-a454-41ec52921baf"
   },
   "outputs": [
    {
     "name": "stdout",
     "output_type": "stream",
     "text": [
      "313/313 [==============================] - 1s 4ms/step - loss: 1.7124 - accuracy: 0.5029\n"
     ]
    }
   ],
   "source": [
    "#Testing accuracy:\n",
    "test_loss, test_accu = model.evaluate(test_images, test_labels)"
   ]
  },
  {
   "cell_type": "code",
   "execution_count": 28,
   "metadata": {
    "colab": {
     "base_uri": "https://localhost:8080/"
    },
    "id": "vJiOkvgsOmur",
    "outputId": "b52cb8b4-3432-4123-f314-14897a9497bd"
   },
   "outputs": [
    {
     "name": "stdout",
     "output_type": "stream",
     "text": [
      "1563/1563 [==============================] - 6s 4ms/step - loss: 0.9912 - accuracy: 0.6770\n"
     ]
    }
   ],
   "source": [
    "#Training Accuracy\n",
    "train_loss, train_accu = model.evaluate(train_images, train_labels)"
   ]
  },
  {
   "cell_type": "code",
   "execution_count": 29,
   "metadata": {
    "colab": {
     "base_uri": "https://localhost:8080/"
    },
    "id": "D61ncL19Om0w",
    "outputId": "4450fd08-e4c7-4e93-8526-2ff20a9e206a"
   },
   "outputs": [
    {
     "name": "stdout",
     "output_type": "stream",
     "text": [
      "313/313 [==============================] - 1s 2ms/step\n"
     ]
    },
    {
     "data": {
      "text/plain": [
       "array([ 1.5461403 ,  0.00911514, -2.7503994 , -3.311257  , -5.3385224 ,\n",
       "       -1.5865366 , -2.8170652 , -2.0578601 , -1.8423647 ,  0.67626256,\n",
       "       -1.1832529 , -0.9054409 , -2.3756948 , -0.33665878, -0.7342464 ,\n",
       "       -0.2647934 , -2.2047875 , -0.8871976 ,  1.0554074 ,  0.65711784],\n",
       "      dtype=float32)"
      ]
     },
     "execution_count": 29,
     "metadata": {},
     "output_type": "execute_result"
    }
   ],
   "source": [
    "pred = model.predict(test_images)\n",
    "pred[0]"
   ]
  },
  {
   "cell_type": "code",
   "execution_count": 30,
   "metadata": {
    "colab": {
     "base_uri": "https://localhost:8080/"
    },
    "id": "E0Gsnjc5Om6S",
    "outputId": "fb02902b-2a39-4e00-8619-d6a8b0d54ef9"
   },
   "outputs": [
    {
     "data": {
      "text/plain": [
       "0"
      ]
     },
     "execution_count": 30,
     "metadata": {},
     "output_type": "execute_result"
    }
   ],
   "source": [
    "np.argmax(pred[0])"
   ]
  },
  {
   "cell_type": "code",
   "execution_count": 31,
   "metadata": {
    "colab": {
     "base_uri": "https://localhost:8080/"
    },
    "id": "FTMuIaeyOm_P",
    "outputId": "daade34b-c839-49de-89a4-47ee0d2925db"
   },
   "outputs": [
    {
     "data": {
      "text/plain": [
       "array([10])"
      ]
     },
     "execution_count": 31,
     "metadata": {},
     "output_type": "execute_result"
    }
   ],
   "source": [
    "test_labels[0]"
   ]
  },
  {
   "cell_type": "code",
   "execution_count": 32,
   "metadata": {
    "colab": {
     "base_uri": "https://localhost:8080/"
    },
    "id": "cl85ClYhOnEN",
    "outputId": "46a27298-86d1-4f64-9fe1-5d7d8ea44ad9"
   },
   "outputs": [
    {
     "name": "stdout",
     "output_type": "stream",
     "text": [
      "\u001b[2K     \u001b[90m━━━━━━━━━━━━━━━━━━━━━━━━━━━━━━━━━━━━━━━\u001b[0m \u001b[32m176.1/176.1 kB\u001b[0m \u001b[31m3.8 MB/s\u001b[0m eta \u001b[36m0:00:00\u001b[0m\n",
      "\u001b[?25h"
     ]
    }
   ],
   "source": [
    "\n",
    "#now with the help of tuning\n",
    "import tensorflow as tf\n",
    "from tensorflow import keras\n",
    "!pip install -q -U keras-tuner\n",
    "import keras_tuner as kt"
   ]
  },
  {
   "cell_type": "code",
   "execution_count": 33,
   "metadata": {
    "id": "76EcWpc-OnIy"
   },
   "outputs": [],
   "source": [
    "from keras import layers\n",
    "from keras.layers import BatchNormalization\n",
    "from keras import regularizers\n",
    "\n",
    "def model_builder(hp):\n",
    "  model = keras.Sequential()\n",
    "  #adding input layer\n",
    "  model.add(layers.Conv2D(32, (3, 3), activation='relu', input_shape=(32, 32, 3)))\n",
    "  model.add(keras.layers.Flatten())\n",
    "\n",
    "  #tune the no of units in the first Dense Layer\n",
    "  #choose an optimal value between 32-512\n",
    "  hp_units = hp.Int('units', min_value=32, max_value=512)\n",
    "  model.add(keras.layers.Dense(units=hp_units, activation='relu', kernel_regularizer=regularizers.l2(0.01)))\n",
    "  #model.add(BatchNormalization())   #updated\n",
    "  model.add(keras.layers.Dropout(0.5))  #updated\n",
    "\n",
    "  model.add(keras.layers.Dense(20)) #output layer\n",
    "\n",
    "  #tune the learning rate for the optimizer\n",
    "  #choose an ptimal value from 0.01, 0.001, or 0.0001\n",
    "  hp_learning_rate = hp.Choice('learning_rate', values=[1e-2,1e-3,1e-4])\n",
    "\n",
    "  model.compile(optimizer = keras.optimizers.Adam(learning_rate = hp_learning_rate),\n",
    "                loss = keras.losses.SparseCategoricalCrossentropy(from_logits=True),\n",
    "                metrics=['accuracy'])\n",
    "  return model"
   ]
  },
  {
   "cell_type": "code",
   "execution_count": 34,
   "metadata": {
    "id": "nn9egufCOnNK"
   },
   "outputs": [],
   "source": [
    "tuner = kt.Hyperband(model_builder,objective='val_accuracy',\n",
    "                   max_epochs=10,\n",
    "                   factor=4,overwrite=True,\n",
    "                   directory='my_dir',\n",
    "                   project_name='intro_to_kt')"
   ]
  },
  {
   "cell_type": "code",
   "execution_count": 35,
   "metadata": {
    "id": "oT4Ur7uvOnQ4"
   },
   "outputs": [],
   "source": [
    "stop_early = tf.keras.callbacks.EarlyStopping(monitor='val_loss',patience=5)"
   ]
  },
  {
   "cell_type": "code",
   "execution_count": 36,
   "metadata": {
    "colab": {
     "base_uri": "https://localhost:8080/"
    },
    "id": "thngvihpOnVP",
    "outputId": "cb552f06-801d-46f2-963a-0ddcd01b45da"
   },
   "outputs": [
    {
     "name": "stdout",
     "output_type": "stream",
     "text": [
      "Trial 11 Complete [00h 02m 26s]\n",
      "val_accuracy: 0.2806999981403351\n",
      "\n",
      "Best val_accuracy So Far: 0.32409998774528503\n",
      "Total elapsed time: 00h 10m 07s\n"
     ]
    }
   ],
   "source": [
    "tuner.search(train_images,train_labels,epochs=50,validation_split=0.2,callbacks=[stop_early])"
   ]
  },
  {
   "cell_type": "code",
   "execution_count": 37,
   "metadata": {
    "colab": {
     "base_uri": "https://localhost:8080/"
    },
    "id": "ExjlrsJjQLiD",
    "outputId": "da414a34-22db-4050-949a-03caea674d1d"
   },
   "outputs": [
    {
     "name": "stdout",
     "output_type": "stream",
     "text": [
      "423\n",
      "0.0001\n"
     ]
    }
   ],
   "source": [
    "#Get the optimal hyperparameters\n",
    "best_hps = tuner.get_best_hyperparameters(num_trials=1)[0]\n",
    "\n",
    "print(best_hps.get('units'))\n",
    "print(best_hps.get('learning_rate'))"
   ]
  },
  {
   "cell_type": "code",
   "execution_count": 38,
   "metadata": {
    "colab": {
     "base_uri": "https://localhost:8080/"
    },
    "id": "coUiOt3eQMbk",
    "outputId": "f6f2d1fc-12b2-46ec-9c97-430a06b14d93"
   },
   "outputs": [
    {
     "name": "stdout",
     "output_type": "stream",
     "text": [
      "Epoch 1/50\n",
      "1250/1250 [==============================] - 14s 10ms/step - loss: 3.4665 - accuracy: 0.1798 - val_loss: 2.6643 - val_accuracy: 0.2530\n",
      "Epoch 2/50\n",
      "1250/1250 [==============================] - 14s 11ms/step - loss: 2.6765 - accuracy: 0.2255 - val_loss: 2.5708 - val_accuracy: 0.2686\n",
      "Epoch 3/50\n",
      "1250/1250 [==============================] - 8s 7ms/step - loss: 2.6148 - accuracy: 0.2424 - val_loss: 2.5245 - val_accuracy: 0.2848\n",
      "Epoch 4/50\n",
      "1250/1250 [==============================] - 9s 7ms/step - loss: 2.5840 - accuracy: 0.2488 - val_loss: 2.5103 - val_accuracy: 0.2961\n",
      "Epoch 5/50\n",
      "1250/1250 [==============================] - 9s 7ms/step - loss: 2.5544 - accuracy: 0.2635 - val_loss: 2.4788 - val_accuracy: 0.3024\n",
      "Epoch 6/50\n",
      "1250/1250 [==============================] - 9s 7ms/step - loss: 2.5307 - accuracy: 0.2724 - val_loss: 2.4646 - val_accuracy: 0.3049\n",
      "Epoch 7/50\n",
      "1250/1250 [==============================] - 9s 7ms/step - loss: 2.5099 - accuracy: 0.2794 - val_loss: 2.4267 - val_accuracy: 0.3205\n",
      "Epoch 8/50\n",
      "1250/1250 [==============================] - 9s 7ms/step - loss: 2.4947 - accuracy: 0.2855 - val_loss: 2.4301 - val_accuracy: 0.3245\n",
      "Epoch 9/50\n",
      "1250/1250 [==============================] - 9s 8ms/step - loss: 2.4800 - accuracy: 0.2910 - val_loss: 2.4095 - val_accuracy: 0.3303\n",
      "Epoch 10/50\n",
      "1250/1250 [==============================] - 9s 7ms/step - loss: 2.4673 - accuracy: 0.2961 - val_loss: 2.3988 - val_accuracy: 0.3251\n",
      "Epoch 11/50\n",
      "1250/1250 [==============================] - 10s 8ms/step - loss: 2.4572 - accuracy: 0.3016 - val_loss: 2.3939 - val_accuracy: 0.3350\n",
      "Epoch 12/50\n",
      "1250/1250 [==============================] - 9s 8ms/step - loss: 2.4420 - accuracy: 0.3083 - val_loss: 2.3737 - val_accuracy: 0.3287\n",
      "Epoch 13/50\n",
      "1250/1250 [==============================] - 10s 8ms/step - loss: 2.4335 - accuracy: 0.3110 - val_loss: 2.3596 - val_accuracy: 0.3482\n",
      "Epoch 14/50\n",
      "1250/1250 [==============================] - 9s 7ms/step - loss: 2.4222 - accuracy: 0.3137 - val_loss: 2.3494 - val_accuracy: 0.3468\n",
      "Epoch 15/50\n",
      "1250/1250 [==============================] - 9s 7ms/step - loss: 2.4184 - accuracy: 0.3171 - val_loss: 2.3566 - val_accuracy: 0.3428\n",
      "Epoch 16/50\n",
      "1250/1250 [==============================] - 9s 7ms/step - loss: 2.4107 - accuracy: 0.3173 - val_loss: 2.3348 - val_accuracy: 0.3553\n",
      "Epoch 17/50\n",
      "1250/1250 [==============================] - 9s 7ms/step - loss: 2.4025 - accuracy: 0.3210 - val_loss: 2.3394 - val_accuracy: 0.3553\n",
      "Epoch 18/50\n",
      "1250/1250 [==============================] - 9s 7ms/step - loss: 2.3971 - accuracy: 0.3223 - val_loss: 2.3199 - val_accuracy: 0.3560\n",
      "Epoch 19/50\n",
      "1250/1250 [==============================] - 9s 7ms/step - loss: 2.3915 - accuracy: 0.3291 - val_loss: 2.3237 - val_accuracy: 0.3631\n",
      "Epoch 20/50\n",
      "1250/1250 [==============================] - 9s 7ms/step - loss: 2.3854 - accuracy: 0.3298 - val_loss: 2.3232 - val_accuracy: 0.3545\n",
      "Epoch 21/50\n",
      "1250/1250 [==============================] - 9s 7ms/step - loss: 2.3799 - accuracy: 0.3334 - val_loss: 2.3219 - val_accuracy: 0.3623\n",
      "Epoch 22/50\n",
      "1250/1250 [==============================] - 9s 8ms/step - loss: 2.3742 - accuracy: 0.3342 - val_loss: 2.3089 - val_accuracy: 0.3648\n",
      "Epoch 23/50\n",
      "1250/1250 [==============================] - 9s 8ms/step - loss: 2.3704 - accuracy: 0.3336 - val_loss: 2.3157 - val_accuracy: 0.3611\n",
      "Epoch 24/50\n",
      "1250/1250 [==============================] - 9s 7ms/step - loss: 2.3674 - accuracy: 0.3372 - val_loss: 2.3056 - val_accuracy: 0.3694\n",
      "Epoch 25/50\n",
      "1250/1250 [==============================] - 9s 7ms/step - loss: 2.3614 - accuracy: 0.3410 - val_loss: 2.3047 - val_accuracy: 0.3667\n",
      "Epoch 26/50\n",
      "1250/1250 [==============================] - 9s 7ms/step - loss: 2.3558 - accuracy: 0.3416 - val_loss: 2.3272 - val_accuracy: 0.3581\n",
      "Epoch 27/50\n",
      "1250/1250 [==============================] - 9s 7ms/step - loss: 2.3525 - accuracy: 0.3441 - val_loss: 2.2906 - val_accuracy: 0.3737\n",
      "Epoch 28/50\n",
      "1250/1250 [==============================] - 9s 7ms/step - loss: 2.3477 - accuracy: 0.3425 - val_loss: 2.2866 - val_accuracy: 0.3728\n",
      "Epoch 29/50\n",
      "1250/1250 [==============================] - 9s 8ms/step - loss: 2.3447 - accuracy: 0.3473 - val_loss: 2.2824 - val_accuracy: 0.3749\n",
      "Epoch 30/50\n",
      "1250/1250 [==============================] - 9s 7ms/step - loss: 2.3376 - accuracy: 0.3494 - val_loss: 2.2847 - val_accuracy: 0.3741\n",
      "Epoch 31/50\n",
      "1250/1250 [==============================] - 9s 7ms/step - loss: 2.3358 - accuracy: 0.3505 - val_loss: 2.2718 - val_accuracy: 0.3797\n",
      "Epoch 32/50\n",
      "1250/1250 [==============================] - 9s 7ms/step - loss: 2.3317 - accuracy: 0.3556 - val_loss: 2.2869 - val_accuracy: 0.3734\n",
      "Epoch 33/50\n",
      "1250/1250 [==============================] - 9s 8ms/step - loss: 2.3281 - accuracy: 0.3550 - val_loss: 2.2756 - val_accuracy: 0.3796\n",
      "Epoch 34/50\n",
      "1250/1250 [==============================] - 9s 7ms/step - loss: 2.3233 - accuracy: 0.3550 - val_loss: 2.2719 - val_accuracy: 0.3817\n",
      "Epoch 35/50\n",
      "1250/1250 [==============================] - 9s 7ms/step - loss: 2.3189 - accuracy: 0.3570 - val_loss: 2.2829 - val_accuracy: 0.3739\n",
      "Epoch 36/50\n",
      "1250/1250 [==============================] - 9s 7ms/step - loss: 2.3154 - accuracy: 0.3582 - val_loss: 2.2780 - val_accuracy: 0.3757\n",
      "Epoch 37/50\n",
      "1250/1250 [==============================] - 9s 7ms/step - loss: 2.3102 - accuracy: 0.3606 - val_loss: 2.2823 - val_accuracy: 0.3761\n",
      "Epoch 38/50\n",
      "1250/1250 [==============================] - 9s 7ms/step - loss: 2.3115 - accuracy: 0.3642 - val_loss: 2.2824 - val_accuracy: 0.3782\n",
      "Epoch 39/50\n",
      "1250/1250 [==============================] - 9s 7ms/step - loss: 2.3086 - accuracy: 0.3612 - val_loss: 2.2803 - val_accuracy: 0.3806\n",
      "Epoch 40/50\n",
      "1250/1250 [==============================] - 9s 8ms/step - loss: 2.3068 - accuracy: 0.3634 - val_loss: 2.2629 - val_accuracy: 0.3835\n",
      "Epoch 41/50\n",
      "1250/1250 [==============================] - 9s 7ms/step - loss: 2.2996 - accuracy: 0.3641 - val_loss: 2.2610 - val_accuracy: 0.3856\n",
      "Epoch 42/50\n",
      "1250/1250 [==============================] - 9s 7ms/step - loss: 2.2968 - accuracy: 0.3649 - val_loss: 2.2672 - val_accuracy: 0.3788\n",
      "Epoch 43/50\n",
      "1250/1250 [==============================] - 9s 7ms/step - loss: 2.2959 - accuracy: 0.3677 - val_loss: 2.2546 - val_accuracy: 0.3919\n",
      "Epoch 44/50\n",
      "1250/1250 [==============================] - 10s 8ms/step - loss: 2.2981 - accuracy: 0.3663 - val_loss: 2.2747 - val_accuracy: 0.3809\n",
      "Epoch 45/50\n",
      "1250/1250 [==============================] - 9s 7ms/step - loss: 2.2931 - accuracy: 0.3715 - val_loss: 2.2572 - val_accuracy: 0.3857\n",
      "Epoch 46/50\n",
      "1250/1250 [==============================] - 9s 7ms/step - loss: 2.2926 - accuracy: 0.3686 - val_loss: 2.2558 - val_accuracy: 0.3904\n",
      "Epoch 47/50\n",
      "1250/1250 [==============================] - 9s 8ms/step - loss: 2.2887 - accuracy: 0.3700 - val_loss: 2.2621 - val_accuracy: 0.3854\n",
      "Epoch 48/50\n",
      "1250/1250 [==============================] - 9s 8ms/step - loss: 2.2849 - accuracy: 0.3721 - val_loss: 2.2756 - val_accuracy: 0.3828\n",
      "Epoch 49/50\n",
      "1250/1250 [==============================] - 9s 7ms/step - loss: 2.2854 - accuracy: 0.3755 - val_loss: 2.2506 - val_accuracy: 0.3844\n",
      "Epoch 50/50\n",
      "1250/1250 [==============================] - 9s 7ms/step - loss: 2.2824 - accuracy: 0.3734 - val_loss: 2.2730 - val_accuracy: 0.3832\n",
      "Best epoch: 43\n"
     ]
    }
   ],
   "source": [
    "model = tuner.hypermodel.build(best_hps)\n",
    "newmodel = model.fit(train_images,train_labels, epochs=50, validation_split=0.2)\n",
    "\n",
    "val_acc_per_epoch = newmodel.history['val_accuracy']\n",
    "best_epoch = val_acc_per_epoch.index(max(val_acc_per_epoch))+1\n",
    "print('Best epoch: %d'%(best_epoch,))"
   ]
  },
  {
   "cell_type": "code",
   "execution_count": 39,
   "metadata": {
    "colab": {
     "base_uri": "https://localhost:8080/"
    },
    "id": "pLybO-deQMuP",
    "outputId": "9f7ba2c9-ff36-491b-db48-b06a51566026"
   },
   "outputs": [
    {
     "name": "stdout",
     "output_type": "stream",
     "text": [
      "Epoch 1/43\n",
      "1563/1563 [==============================] - 14s 8ms/step - loss: 3.3874 - accuracy: 0.1683 - val_loss: 2.6562 - val_accuracy: 0.2505\n",
      "Epoch 2/43\n",
      "1563/1563 [==============================] - 12s 8ms/step - loss: 2.6639 - accuracy: 0.2167 - val_loss: 2.5537 - val_accuracy: 0.2628\n",
      "Epoch 3/43\n",
      "1563/1563 [==============================] - 11s 7ms/step - loss: 2.6045 - accuracy: 0.2354 - val_loss: 2.5076 - val_accuracy: 0.2729\n",
      "Epoch 4/43\n",
      "1563/1563 [==============================] - 12s 8ms/step - loss: 2.5664 - accuracy: 0.2479 - val_loss: 2.4870 - val_accuracy: 0.2856\n",
      "Epoch 5/43\n",
      "1563/1563 [==============================] - 12s 8ms/step - loss: 2.5397 - accuracy: 0.2567 - val_loss: 2.4505 - val_accuracy: 0.2936\n",
      "Epoch 6/43\n",
      "1563/1563 [==============================] - 11s 7ms/step - loss: 2.5181 - accuracy: 0.2627 - val_loss: 2.4374 - val_accuracy: 0.3051\n",
      "Epoch 7/43\n",
      "1563/1563 [==============================] - 12s 7ms/step - loss: 2.5027 - accuracy: 0.2728 - val_loss: 2.4363 - val_accuracy: 0.2923\n",
      "Epoch 8/43\n",
      "1563/1563 [==============================] - 12s 7ms/step - loss: 2.4860 - accuracy: 0.2766 - val_loss: 2.4085 - val_accuracy: 0.3074\n",
      "Epoch 9/43\n",
      "1563/1563 [==============================] - 11s 7ms/step - loss: 2.4691 - accuracy: 0.2832 - val_loss: 2.3896 - val_accuracy: 0.3164\n",
      "Epoch 10/43\n",
      "1563/1563 [==============================] - 11s 7ms/step - loss: 2.4564 - accuracy: 0.2881 - val_loss: 2.3737 - val_accuracy: 0.3270\n",
      "Epoch 11/43\n",
      "1563/1563 [==============================] - 12s 8ms/step - loss: 2.4458 - accuracy: 0.2931 - val_loss: 2.3725 - val_accuracy: 0.3276\n",
      "Epoch 12/43\n",
      "1563/1563 [==============================] - 12s 8ms/step - loss: 2.4327 - accuracy: 0.3006 - val_loss: 2.3486 - val_accuracy: 0.3352\n",
      "Epoch 13/43\n",
      "1563/1563 [==============================] - 12s 8ms/step - loss: 2.4268 - accuracy: 0.3000 - val_loss: 2.3474 - val_accuracy: 0.3302\n",
      "Epoch 14/43\n",
      "1563/1563 [==============================] - 12s 8ms/step - loss: 2.4199 - accuracy: 0.3006 - val_loss: 2.3530 - val_accuracy: 0.3375\n",
      "Epoch 15/43\n",
      "1563/1563 [==============================] - 12s 8ms/step - loss: 2.4127 - accuracy: 0.3071 - val_loss: 2.3277 - val_accuracy: 0.3379\n",
      "Epoch 16/43\n",
      "1563/1563 [==============================] - 12s 8ms/step - loss: 2.4005 - accuracy: 0.3130 - val_loss: 2.3241 - val_accuracy: 0.3497\n",
      "Epoch 17/43\n",
      "1563/1563 [==============================] - 12s 8ms/step - loss: 2.3964 - accuracy: 0.3139 - val_loss: 2.3026 - val_accuracy: 0.3476\n",
      "Epoch 18/43\n",
      "1563/1563 [==============================] - 11s 7ms/step - loss: 2.3903 - accuracy: 0.3187 - val_loss: 2.2936 - val_accuracy: 0.3481\n",
      "Epoch 19/43\n",
      "1563/1563 [==============================] - 12s 8ms/step - loss: 2.3843 - accuracy: 0.3188 - val_loss: 2.2899 - val_accuracy: 0.3570\n",
      "Epoch 20/43\n",
      "1563/1563 [==============================] - 12s 7ms/step - loss: 2.3792 - accuracy: 0.3222 - val_loss: 2.2819 - val_accuracy: 0.3602\n",
      "Epoch 21/43\n",
      "1563/1563 [==============================] - 11s 7ms/step - loss: 2.3742 - accuracy: 0.3226 - val_loss: 2.2904 - val_accuracy: 0.3624\n",
      "Epoch 22/43\n",
      "1563/1563 [==============================] - 11s 7ms/step - loss: 2.3676 - accuracy: 0.3242 - val_loss: 2.2726 - val_accuracy: 0.3601\n",
      "Epoch 23/43\n",
      "1563/1563 [==============================] - 12s 8ms/step - loss: 2.3638 - accuracy: 0.3271 - val_loss: 2.2941 - val_accuracy: 0.3582\n",
      "Epoch 24/43\n",
      "1563/1563 [==============================] - 12s 7ms/step - loss: 2.3559 - accuracy: 0.3302 - val_loss: 2.2758 - val_accuracy: 0.3553\n",
      "Epoch 25/43\n",
      "1563/1563 [==============================] - 12s 8ms/step - loss: 2.3545 - accuracy: 0.3289 - val_loss: 2.2808 - val_accuracy: 0.3618\n",
      "Epoch 26/43\n",
      "1563/1563 [==============================] - 11s 7ms/step - loss: 2.3470 - accuracy: 0.3337 - val_loss: 2.2762 - val_accuracy: 0.3710\n",
      "Epoch 27/43\n",
      "1563/1563 [==============================] - 12s 7ms/step - loss: 2.3469 - accuracy: 0.3359 - val_loss: 2.2553 - val_accuracy: 0.3693\n",
      "Epoch 28/43\n",
      "1563/1563 [==============================] - 12s 8ms/step - loss: 2.3447 - accuracy: 0.3367 - val_loss: 2.2493 - val_accuracy: 0.3691\n",
      "Epoch 29/43\n",
      "1563/1563 [==============================] - 12s 8ms/step - loss: 2.3414 - accuracy: 0.3370 - val_loss: 2.2680 - val_accuracy: 0.3682\n",
      "Epoch 30/43\n",
      "1563/1563 [==============================] - 12s 8ms/step - loss: 2.3334 - accuracy: 0.3387 - val_loss: 2.2593 - val_accuracy: 0.3722\n",
      "Epoch 31/43\n",
      "1563/1563 [==============================] - 12s 8ms/step - loss: 2.3335 - accuracy: 0.3410 - val_loss: 2.2517 - val_accuracy: 0.3676\n",
      "Epoch 32/43\n",
      "1563/1563 [==============================] - 12s 7ms/step - loss: 2.3263 - accuracy: 0.3443 - val_loss: 2.2429 - val_accuracy: 0.3704\n",
      "Epoch 33/43\n",
      "1563/1563 [==============================] - 12s 7ms/step - loss: 2.3277 - accuracy: 0.3420 - val_loss: 2.2436 - val_accuracy: 0.3706\n",
      "Epoch 34/43\n",
      "1563/1563 [==============================] - 12s 7ms/step - loss: 2.3165 - accuracy: 0.3483 - val_loss: 2.2407 - val_accuracy: 0.3761\n",
      "Epoch 35/43\n",
      "1563/1563 [==============================] - 12s 8ms/step - loss: 2.3185 - accuracy: 0.3445 - val_loss: 2.2364 - val_accuracy: 0.3731\n",
      "Epoch 36/43\n",
      "1563/1563 [==============================] - 12s 8ms/step - loss: 2.3148 - accuracy: 0.3494 - val_loss: 2.2286 - val_accuracy: 0.3777\n",
      "Epoch 37/43\n",
      "1563/1563 [==============================] - 12s 8ms/step - loss: 2.3042 - accuracy: 0.3526 - val_loss: 2.2307 - val_accuracy: 0.3765\n",
      "Epoch 38/43\n",
      "1563/1563 [==============================] - 12s 8ms/step - loss: 2.3043 - accuracy: 0.3512 - val_loss: 2.2462 - val_accuracy: 0.3664\n",
      "Epoch 39/43\n",
      "1563/1563 [==============================] - 12s 8ms/step - loss: 2.3028 - accuracy: 0.3518 - val_loss: 2.2415 - val_accuracy: 0.3694\n",
      "Epoch 40/43\n",
      "1563/1563 [==============================] - 12s 8ms/step - loss: 2.2993 - accuracy: 0.3525 - val_loss: 2.2353 - val_accuracy: 0.3797\n",
      "Epoch 41/43\n",
      "1563/1563 [==============================] - 12s 8ms/step - loss: 2.2965 - accuracy: 0.3550 - val_loss: 2.2254 - val_accuracy: 0.3778\n",
      "Epoch 42/43\n",
      "1563/1563 [==============================] - 12s 8ms/step - loss: 2.2912 - accuracy: 0.3569 - val_loss: 2.2374 - val_accuracy: 0.3820\n",
      "Epoch 43/43\n",
      "1563/1563 [==============================] - 12s 7ms/step - loss: 2.2932 - accuracy: 0.3557 - val_loss: 2.2397 - val_accuracy: 0.3809\n"
     ]
    },
    {
     "data": {
      "text/plain": [
       "<keras.callbacks.History at 0x78a608e82770>"
      ]
     },
     "execution_count": 39,
     "metadata": {},
     "output_type": "execute_result"
    }
   ],
   "source": [
    "hypermodel = tuner.hypermodel.build(best_hps)\n",
    "hypermodel.fit(train_images, train_labels, epochs=best_epoch, validation_split=0.2, validation_data=(test_images,test_labels))"
   ]
  },
  {
   "cell_type": "code",
   "execution_count": 40,
   "metadata": {
    "colab": {
     "base_uri": "https://localhost:8080/"
    },
    "id": "6knRS8dfQNo8",
    "outputId": "842c2e33-ff56-43e3-a6f9-1ee56428ed97"
   },
   "outputs": [
    {
     "name": "stdout",
     "output_type": "stream",
     "text": [
      "313/313 [==============================] - 1s 3ms/step - loss: 2.2397 - accuracy: 0.3809\n",
      "[test_loss, test_accuracy]: [2.2397420406341553, 0.38089999556541443]\n"
     ]
    }
   ],
   "source": [
    "eval_result = hypermodel.evaluate(test_images,test_labels)\n",
    "print('[test_loss, test_accuracy]:',eval_result)"
   ]
  },
  {
   "cell_type": "code",
   "execution_count": 41,
   "metadata": {
    "colab": {
     "base_uri": "https://localhost:8080/"
    },
    "id": "p4a8T9EtQN6X",
    "outputId": "d1d3389c-7c04-422c-d308-defcd29eb51f"
   },
   "outputs": [
    {
     "name": "stdout",
     "output_type": "stream",
     "text": [
      "313/313 [==============================] - 1s 2ms/step\n"
     ]
    }
   ],
   "source": [
    "pred = hypermodel.predict(test_images)"
   ]
  },
  {
   "cell_type": "code",
   "execution_count": 42,
   "metadata": {
    "colab": {
     "base_uri": "https://localhost:8080/"
    },
    "id": "0ZzCYVebQOIn",
    "outputId": "0a22362e-5131-40a8-d289-e01582eb22bd"
   },
   "outputs": [
    {
     "data": {
      "text/plain": [
       "19"
      ]
     },
     "execution_count": 42,
     "metadata": {},
     "output_type": "execute_result"
    }
   ],
   "source": [
    "\n",
    "np.argmax(pred[0])"
   ]
  },
  {
   "cell_type": "code",
   "execution_count": 43,
   "metadata": {
    "colab": {
     "base_uri": "https://localhost:8080/"
    },
    "id": "RL9sx2OUQOYQ",
    "outputId": "eb434583-aed7-43d8-dc9e-3b1890d0a914"
   },
   "outputs": [
    {
     "data": {
      "text/plain": [
       "array([10])"
      ]
     },
     "execution_count": 43,
     "metadata": {},
     "output_type": "execute_result"
    }
   ],
   "source": [
    "\n",
    "test_labels[0]"
   ]
  },
  {
   "cell_type": "code",
   "execution_count": 44,
   "metadata": {
    "colab": {
     "base_uri": "https://localhost:8080/"
    },
    "id": "NO98SRUBQOkx",
    "outputId": "f589f241-2458-4d01-d7c5-78e9e8d89e36"
   },
   "outputs": [
    {
     "data": {
      "text/plain": [
       "array([-1.7231572 , -0.51100916, -1.3489861 ,  1.7296549 , -2.1403298 ,\n",
       "        1.937841  ,  0.75914365, -3.8997822 , -0.99483573, -0.85764104,\n",
       "       -1.0085999 , -0.88332856, -0.7281217 , -1.2209764 ,  0.01343076,\n",
       "       -1.1684694 , -0.03976828, -5.128137  , -1.0051963 , -2.0869298 ],\n",
       "      dtype=float32)"
      ]
     },
     "execution_count": 44,
     "metadata": {},
     "output_type": "execute_result"
    }
   ],
   "source": [
    "\n",
    "pred[10]"
   ]
  },
  {
   "cell_type": "code",
   "execution_count": 45,
   "metadata": {
    "colab": {
     "base_uri": "https://localhost:8080/"
    },
    "id": "TxldN14ZQOzX",
    "outputId": "e6da28f8-4b71-4728-e09c-a5ff0421db5d"
   },
   "outputs": [
    {
     "data": {
      "text/plain": [
       "5"
      ]
     },
     "execution_count": 45,
     "metadata": {},
     "output_type": "execute_result"
    }
   ],
   "source": [
    "np.argmax(pred[10])"
   ]
  },
  {
   "cell_type": "code",
   "execution_count": 46,
   "metadata": {
    "colab": {
     "base_uri": "https://localhost:8080/"
    },
    "id": "pP8a5O4pQO_g",
    "outputId": "aac89655-e77a-4c5f-f0d7-2947faf5fd33"
   },
   "outputs": [
    {
     "data": {
      "text/plain": [
       "array([10])"
      ]
     },
     "execution_count": 46,
     "metadata": {},
     "output_type": "execute_result"
    }
   ],
   "source": [
    "test_labels[10]"
   ]
  },
  {
   "cell_type": "code",
   "execution_count": null,
   "metadata": {
    "id": "3FxqoErxgpQp"
   },
   "outputs": [],
   "source": []
  }
 ],
 "metadata": {
  "accelerator": "GPU",
  "colab": {
   "gpuType": "T4",
   "provenance": []
  },
  "kernelspec": {
   "display_name": "Python 3 (ipykernel)",
   "language": "python",
   "name": "python3"
  },
  "language_info": {
   "codemirror_mode": {
    "name": "ipython",
    "version": 3
   },
   "file_extension": ".py",
   "mimetype": "text/x-python",
   "name": "python",
   "nbconvert_exporter": "python",
   "pygments_lexer": "ipython3",
   "version": "3.10.9"
  }
 },
 "nbformat": 4,
 "nbformat_minor": 1
}
